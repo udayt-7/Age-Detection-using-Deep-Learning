{
 "cells": [
  {
   "cell_type": "code",
   "execution_count": 25,
   "metadata": {},
   "outputs": [],
   "source": [
    "import os\n",
    "import random\n",
    "import shutil\n",
    "import glob\n",
    "from PIL import Image\n",
    "import pandas as pd\n",
    "import numpy as np\n",
    "import matplotlib.pyplot as plt"
   ]
  },
  {
   "cell_type": "code",
   "execution_count": 50,
   "metadata": {},
   "outputs": [],
   "source": [
    "original_dir= \"C:/Users/mahe/Desktop/project/main\"\n",
    "base_dir = \"C:/Users/mahe/Desktop/project/cat\"\n",
    "os.mkdir(base_dir)"
   ]
  },
  {
   "cell_type": "code",
   "execution_count": 52,
   "metadata": {},
   "outputs": [],
   "source": [
    "train_data=pd.read_csv('train.csv')\n",
    "test_data=pd.read_csv('test.csv')\n"
   ]
  },
  {
   "cell_type": "code",
   "execution_count": 53,
   "metadata": {},
   "outputs": [],
   "source": [
    "train_id=list(train_data['ID'])\n",
    "test_id=list(test_data['ID'])\n"
   ]
  },
  {
   "cell_type": "code",
   "execution_count": 54,
   "metadata": {},
   "outputs": [],
   "source": [
    "train_labels=list(train_data['Class'])\n"
   ]
  },
  {
   "cell_type": "code",
   "execution_count": 55,
   "metadata": {},
   "outputs": [],
   "source": [
    "\n",
    "train_dir=os.path.join(base_dir,'Train')\n",
    "os.mkdir(train_dir)\n",
    "test_dir=os.path.join(base_dir,'Test')\n",
    "os.mkdir(test_dir)"
   ]
  },
  {
   "cell_type": "code",
   "execution_count": 56,
   "metadata": {},
   "outputs": [],
   "source": [
    "train_young_dir=os.path.join(train_dir,'YOUNG')\n",
    "os.mkdir(train_young_dir)\n",
    "train_middle_dir=os.path.join(train_dir,'MIDDLE')\n",
    "os.mkdir(train_middle_dir)\n",
    "train_old_dir=os.path.join(train_dir,'OLD')\n",
    "os.mkdir(train_old_dir)"
   ]
  },
  {
   "cell_type": "code",
   "execution_count": 57,
   "metadata": {},
   "outputs": [],
   "source": [
    "originial_dir_train= \"C:/Users/mahe/Desktop/project/main/Train\"\n",
    "for i in range(len(train_id)):\n",
    "    if train_labels[i]=='YOUNG':\n",
    "        src=os.path.join(originial_dir_train,train_id[i])\n",
    "        dst=os.path.join(train_young_dir,train_id[i])\n",
    "        shutil.copyfile(src,dst)\n",
    "    elif train_labels[i]=='MIDDLE':\n",
    "        src=os.path.join(originial_dir_train,train_id[i])\n",
    "        dst=os.path.join(train_middle_dir,train_id[i])\n",
    "        shutil.copyfile(src,dst)\n",
    "    elif train_labels[i]=='OLD':\n",
    "        src=os.path.join(originial_dir_train,train_id[i])\n",
    "        dst=os.path.join(train_old_dir,train_id[i])\n",
    "        shutil.copyfile(src,dst)"
   ]
  },
  {
   "cell_type": "code",
   "execution_count": null,
   "metadata": {},
   "outputs": [],
   "source": []
  },
  {
   "cell_type": "code",
   "execution_count": null,
   "metadata": {},
   "outputs": [],
   "source": []
  },
  {
   "cell_type": "code",
   "execution_count": null,
   "metadata": {},
   "outputs": [],
   "source": []
  },
  {
   "cell_type": "code",
   "execution_count": 45,
   "metadata": {},
   "outputs": [],
   "source": [
    "src_path=\"C:/Users/mahe/Desktop/project/cat/Train\"\n",
    "dest_path1=\"C:/Users/mahe/Desktop/project/vn/Train\"\n",
    "dest_path2= \"C:/Users/mahe/Desktop/project/vn/Test\""
   ]
  },
  {
   "cell_type": "code",
   "execution_count": 46,
   "metadata": {},
   "outputs": [],
   "source": [
    "def splitting_dataset(path,filename):\n",
    "    filenames = os.listdir(os.path.join(path,filename))\n",
    "    split_1 = int(0.8 * len(filenames))    \n",
    "    filenames.sort()  # make sure that the filenames have a fixed order before #shuffling\n",
    "    random.seed(230)\n",
    "    random.shuffle(filenames)\n",
    "    train_filenames = filenames[:split_1]\n",
    "    test_filenames = filenames[split_1:]\n",
    "    return train_filenames,test_filenames"
   ]
  },
  {
   "cell_type": "code",
   "execution_count": 47,
   "metadata": {},
   "outputs": [],
   "source": [
    "def put_data(filename,train_filenames,test_filenames):\n",
    "    src=os.path.join(src_path,filename)\n",
    "    dest1=os.path.join(dest_path1,filename)\n",
    "    dest2=os.path.join(dest_path2,filename)\n",
    "    for i in train_filenames: \n",
    "        shutil.move(os.path.join(src,i),dest1)\n",
    "    for i in test_filenames:\n",
    "        shutil.move(os.path.join(src,i),dest2)"
   ]
  },
  {
   "cell_type": "code",
   "execution_count": 48,
   "metadata": {},
   "outputs": [],
   "source": [
    "l=[\"YOUNG\",'MIDDLE','OLD']\n"
   ]
  },
  {
   "cell_type": "code",
   "execution_count": 49,
   "metadata": {},
   "outputs": [],
   "source": [
    "for i in l:\n",
    "    p = \"C:/Users/mahe/Desktop/project/cat/Train\"\n",
    "    train_filenames,test_filenames = splitting_dataset(p,i)\n",
    "    put_data(i,train_filenames,test_filenames)"
   ]
  },
  {
   "cell_type": "code",
   "execution_count": null,
   "metadata": {},
   "outputs": [],
   "source": []
  },
  {
   "cell_type": "code",
   "execution_count": null,
   "metadata": {},
   "outputs": [],
   "source": []
  },
  {
   "cell_type": "code",
   "execution_count": null,
   "metadata": {},
   "outputs": [],
   "source": []
  },
  {
   "cell_type": "code",
   "execution_count": null,
   "metadata": {},
   "outputs": [],
   "source": []
  },
  {
   "cell_type": "code",
   "execution_count": null,
   "metadata": {},
   "outputs": [],
   "source": []
  }
 ],
 "metadata": {
  "kernelspec": {
   "display_name": "Python 3",
   "language": "python",
   "name": "python3"
  },
  "language_info": {
   "codemirror_mode": {
    "name": "ipython",
    "version": 3
   },
   "file_extension": ".py",
   "mimetype": "text/x-python",
   "name": "python",
   "nbconvert_exporter": "python",
   "pygments_lexer": "ipython3",
   "version": "3.6.8"
  }
 },
 "nbformat": 4,
 "nbformat_minor": 2
}
