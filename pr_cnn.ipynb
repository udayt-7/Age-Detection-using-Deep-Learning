{
 "cells": [
  {
   "cell_type": "code",
   "execution_count": 1,
   "metadata": {},
   "outputs": [
    {
     "name": "stderr",
     "output_type": "stream",
     "text": [
      "Using TensorFlow backend.\n"
     ]
    }
   ],
   "source": [
    "\n",
    "from keras.models import Sequential\n",
    "from keras import layers\n",
    "import pandas as pd\n",
    "import numpy as np\n",
    "import matplotlib.pyplot as plt\n",
    "import os, shutil\n",
    "%matplotlib inline"
   ]
  },
  {
   "cell_type": "code",
   "execution_count": 2,
   "metadata": {},
   "outputs": [],
   "source": [
    "train_data=pd.read_csv('train.csv')"
   ]
  },
  {
   "cell_type": "code",
   "execution_count": 3,
   "metadata": {},
   "outputs": [],
   "source": [
    "test_data=pd.read_csv('test.csv')"
   ]
  },
  {
   "cell_type": "code",
   "execution_count": 4,
   "metadata": {},
   "outputs": [
    {
     "data": {
      "text/html": [
       "<div>\n",
       "<style scoped>\n",
       "    .dataframe tbody tr th:only-of-type {\n",
       "        vertical-align: middle;\n",
       "    }\n",
       "\n",
       "    .dataframe tbody tr th {\n",
       "        vertical-align: top;\n",
       "    }\n",
       "\n",
       "    .dataframe thead th {\n",
       "        text-align: right;\n",
       "    }\n",
       "</style>\n",
       "<table border=\"1\" class=\"dataframe\">\n",
       "  <thead>\n",
       "    <tr style=\"text-align: right;\">\n",
       "      <th></th>\n",
       "      <th>ID</th>\n",
       "      <th>Class</th>\n",
       "    </tr>\n",
       "  </thead>\n",
       "  <tbody>\n",
       "    <tr>\n",
       "      <th>0</th>\n",
       "      <td>377.jpg</td>\n",
       "      <td>MIDDLE</td>\n",
       "    </tr>\n",
       "    <tr>\n",
       "      <th>1</th>\n",
       "      <td>17814.jpg</td>\n",
       "      <td>YOUNG</td>\n",
       "    </tr>\n",
       "    <tr>\n",
       "      <th>2</th>\n",
       "      <td>21283.jpg</td>\n",
       "      <td>MIDDLE</td>\n",
       "    </tr>\n",
       "    <tr>\n",
       "      <th>3</th>\n",
       "      <td>16496.jpg</td>\n",
       "      <td>YOUNG</td>\n",
       "    </tr>\n",
       "    <tr>\n",
       "      <th>4</th>\n",
       "      <td>4487.jpg</td>\n",
       "      <td>MIDDLE</td>\n",
       "    </tr>\n",
       "  </tbody>\n",
       "</table>\n",
       "</div>"
      ],
      "text/plain": [
       "          ID   Class\n",
       "0    377.jpg  MIDDLE\n",
       "1  17814.jpg   YOUNG\n",
       "2  21283.jpg  MIDDLE\n",
       "3  16496.jpg   YOUNG\n",
       "4   4487.jpg  MIDDLE"
      ]
     },
     "execution_count": 4,
     "metadata": {},
     "output_type": "execute_result"
    }
   ],
   "source": [
    "train_data.head()"
   ]
  },
  {
   "cell_type": "code",
   "execution_count": 5,
   "metadata": {
    "scrolled": true
   },
   "outputs": [
    {
     "data": {
      "text/html": [
       "<div>\n",
       "<style scoped>\n",
       "    .dataframe tbody tr th:only-of-type {\n",
       "        vertical-align: middle;\n",
       "    }\n",
       "\n",
       "    .dataframe tbody tr th {\n",
       "        vertical-align: top;\n",
       "    }\n",
       "\n",
       "    .dataframe thead th {\n",
       "        text-align: right;\n",
       "    }\n",
       "</style>\n",
       "<table border=\"1\" class=\"dataframe\">\n",
       "  <thead>\n",
       "    <tr style=\"text-align: right;\">\n",
       "      <th></th>\n",
       "      <th>ID</th>\n",
       "    </tr>\n",
       "  </thead>\n",
       "  <tbody>\n",
       "    <tr>\n",
       "      <th>0</th>\n",
       "      <td>25321.jpg</td>\n",
       "    </tr>\n",
       "    <tr>\n",
       "      <th>1</th>\n",
       "      <td>989.jpg</td>\n",
       "    </tr>\n",
       "    <tr>\n",
       "      <th>2</th>\n",
       "      <td>19277.jpg</td>\n",
       "    </tr>\n",
       "    <tr>\n",
       "      <th>3</th>\n",
       "      <td>13093.jpg</td>\n",
       "    </tr>\n",
       "    <tr>\n",
       "      <th>4</th>\n",
       "      <td>5367.jpg</td>\n",
       "    </tr>\n",
       "  </tbody>\n",
       "</table>\n",
       "</div>"
      ],
      "text/plain": [
       "          ID\n",
       "0  25321.jpg\n",
       "1    989.jpg\n",
       "2  19277.jpg\n",
       "3  13093.jpg\n",
       "4   5367.jpg"
      ]
     },
     "execution_count": 5,
     "metadata": {},
     "output_type": "execute_result"
    }
   ],
   "source": [
    "test_data.head()\n"
   ]
  },
  {
   "cell_type": "code",
   "execution_count": 6,
   "metadata": {},
   "outputs": [],
   "source": [
    "train_id=list(train_data['ID'])"
   ]
  },
  {
   "cell_type": "code",
   "execution_count": 7,
   "metadata": {},
   "outputs": [],
   "source": [
    "test_id=list(test_data['ID'])"
   ]
  },
  {
   "cell_type": "code",
   "execution_count": 8,
   "metadata": {},
   "outputs": [],
   "source": [
    "train_labels=list(train_data['Class'])"
   ]
  },
  {
   "cell_type": "code",
   "execution_count": 9,
   "metadata": {},
   "outputs": [],
   "source": [
    "original_dir='C:\\\\Users\\\\mahe\\\\Desktop\\\\CNN'\n",
    "base_dir='C:\\\\Users\\\\mahe\\\\Desktop\\\\CNN\\\\AUG'\n",
    "#os.mkdir(base_dir)"
   ]
  },
  {
   "cell_type": "code",
   "execution_count": 10,
   "metadata": {},
   "outputs": [],
   "source": [
    "train_dir='C:\\\\Users\\\\mahe\\\\Desktop\\\\CNN\\\\AUG\\\\Train'\n",
    "#os.mkdir(train_dir)\n",
    "test_dir='C:\\\\Users\\\\mahe\\\\Desktop\\\\CNN\\\\AUG\\\\Test'\n",
    "#os.mkdir(test_dir)"
   ]
  },
  {
   "cell_type": "code",
   "execution_count": 11,
   "metadata": {},
   "outputs": [],
   "source": [
    "train_young_dir='C:\\\\Users\\\\mahe\\\\Desktop\\\\CNN\\\\AUG\\\\Train\\\\YOUNG'\n",
    "#os.mkdir(train_young_dir)\n",
    "train_middle_dir='C:\\\\Users\\\\mahe\\\\Desktop\\\\CNN\\\\AUG\\\\Train\\\\MIDDLE'\n",
    "#os.mkdir(train_middle_dir)\n",
    "train_old_dir='C:\\\\Users\\\\mahe\\\\Desktop\\\\CNN\\\\AUG\\\\Train\\\\OLD'\n",
    "#os.mkdir(train_old_dir)"
   ]
  },
  {
   "cell_type": "code",
   "execution_count": 71,
   "metadata": {},
   "outputs": [],
   "source": [
    "# originial_dir_train='C:\\\\Users\\\\mahe\\\\Desktop\\\\CNN\\\\Train'\n",
    "# for i in range(len(train_id)):\n",
    "#     if train_labels[i]=='YOUNG':\n",
    "#         src=os.path.join(originial_dir_train,train_id[i])\n",
    "#         dst=os.path.join(train_young_dir,train_id[i])\n",
    "#         shutil.copyfile(src,dst)\n",
    "#     elif train_labels[i]=='MIDDLE':\n",
    "#         src=os.path.join(originial_dir_train,train_id[i])\n",
    "#         dst=os.path.join(train_middle_dir,train_id[i])\n",
    "#         shutil.copyfile(src,dst)\n",
    "#     elif train_labels[i]=='OLD':\n",
    "#         src=os.path.join(originial_dir_train,train_id[i])\n",
    "#         dst=os.path.join(train_old_dir,train_id[i])\n",
    "#         shutil.copyfile(src,dst)"
   ]
  },
  {
   "cell_type": "code",
   "execution_count": 12,
   "metadata": {},
   "outputs": [
    {
     "data": {
      "text/plain": [
       "6706"
      ]
     },
     "execution_count": 12,
     "metadata": {},
     "output_type": "execute_result"
    }
   ],
   "source": [
    "len(os.listdir(train_old_dir))\n",
    "len(os.listdir(train_middle_dir))\n",
    "len(os.listdir(train_young_dir))"
   ]
  },
  {
   "cell_type": "code",
   "execution_count": 13,
   "metadata": {},
   "outputs": [
    {
     "name": "stdout",
     "output_type": "stream",
     "text": [
      "WARNING:tensorflow:From C:\\Users\\mahe\\AppData\\Local\\conda\\conda\\envs\\tensorflow_env\\lib\\site-packages\\tensorflow\\python\\framework\\op_def_library.py:263: colocate_with (from tensorflow.python.framework.ops) is deprecated and will be removed in a future version.\n",
      "Instructions for updating:\n",
      "Colocations handled automatically by placer.\n",
      "WARNING:tensorflow:From C:\\Users\\mahe\\AppData\\Local\\conda\\conda\\envs\\tensorflow_env\\lib\\site-packages\\keras\\backend\\tensorflow_backend.py:3445: calling dropout (from tensorflow.python.ops.nn_ops) with keep_prob is deprecated and will be removed in a future version.\n",
      "Instructions for updating:\n",
      "Please use `rate` instead of `keep_prob`. Rate should be set to `rate = 1 - keep_prob`.\n",
      "_________________________________________________________________\n",
      "Layer (type)                 Output Shape              Param #   \n",
      "=================================================================\n",
      "conv2d_1 (Conv2D)            (None, 44, 44, 128)       9728      \n",
      "_________________________________________________________________\n",
      "max_pooling2d_1 (MaxPooling2 (None, 22, 22, 128)       0         \n",
      "_________________________________________________________________\n",
      "dropout_1 (Dropout)          (None, 22, 22, 128)       0         \n",
      "_________________________________________________________________\n",
      "conv2d_2 (Conv2D)            (None, 20, 20, 128)       147584    \n",
      "_________________________________________________________________\n",
      "max_pooling2d_2 (MaxPooling2 (None, 10, 10, 128)       0         \n",
      "_________________________________________________________________\n",
      "dropout_2 (Dropout)          (None, 10, 10, 128)       0         \n",
      "_________________________________________________________________\n",
      "flatten_1 (Flatten)          (None, 12800)             0         \n",
      "_________________________________________________________________\n",
      "dense_1 (Dense)              (None, 256)               3277056   \n",
      "_________________________________________________________________\n",
      "dense_2 (Dense)              (None, 128)               32896     \n",
      "_________________________________________________________________\n",
      "dense_3 (Dense)              (None, 3)                 387       \n",
      "=================================================================\n",
      "Total params: 3,467,651\n",
      "Trainable params: 3,467,651\n",
      "Non-trainable params: 0\n",
      "_________________________________________________________________\n"
     ]
    }
   ],
   "source": [
    "model=Sequential()\n",
    "model.add(layers.InputLayer(input_shape=(48,48,3)))\n",
    "model.add(layers.Conv2D(128,(5,5),activation='relu',input_shape=(48,48,3)))\n",
    "model.add(layers.MaxPool2D(pool_size=(2,2)))\n",
    "model.add(layers.Dropout(0.25))\n",
    "model.add(layers.Conv2D(128,(3,3),activation='relu'))\n",
    "model.add(layers.MaxPool2D(pool_size=(2,2)))\n",
    "model.add(layers.Dropout(0.5))\n",
    "model.add(layers.Flatten())\n",
    "model.add(layers.Dense(256,activation='relu'))\n",
    "model.add(layers.Dense(128,activation='relu'))\n",
    "model.add(layers.Dense(3,activation='softmax'))\n",
    "model.summary()"
   ]
  },
  {
   "cell_type": "code",
   "execution_count": 14,
   "metadata": {},
   "outputs": [],
   "source": [
    "model.compile(optimizer='adam',loss='categorical_crossentropy',metrics=['acc'])"
   ]
  },
  {
   "cell_type": "code",
   "execution_count": 15,
   "metadata": {},
   "outputs": [],
   "source": [
    "from keras.preprocessing.image import ImageDataGenerator"
   ]
  },
  {
   "cell_type": "code",
   "execution_count": 16,
   "metadata": {},
   "outputs": [
    {
     "name": "stdout",
     "output_type": "stream",
     "text": [
      "Found 19906 images belonging to 3 classes.\n"
     ]
    }
   ],
   "source": [
    "from keras.preprocessing.image import ImageDataGenerator\n",
    "\n",
    "train_datagen = ImageDataGenerator(rescale=1./255)\n",
    "test_datagen = ImageDataGenerator(rescale=1./255)\n",
    "\n",
    "train_generator = train_datagen.flow_from_directory(\n",
    "        train_dir,\n",
    "        target_size=(48, 48),\n",
    "        batch_size=512,\n",
    "        class_mode='categorical')"
   ]
  },
  {
   "cell_type": "code",
   "execution_count": 17,
   "metadata": {},
   "outputs": [
    {
     "name": "stdout",
     "output_type": "stream",
     "text": [
      "data batch shape: (512, 48, 48, 3)\n",
      "labels batch shape: (512, 3)\n"
     ]
    }
   ],
   "source": [
    "\n",
    "for data_batch, labels_batch in train_generator:\n",
    "    print('data batch shape:', data_batch.shape)\n",
    "    print('labels batch shape:', labels_batch.shape)\n",
    "    break"
   ]
  },
  {
   "cell_type": "code",
   "execution_count": 18,
   "metadata": {},
   "outputs": [
    {
     "name": "stdout",
     "output_type": "stream",
     "text": [
      "WARNING:tensorflow:From C:\\Users\\mahe\\AppData\\Local\\conda\\conda\\envs\\tensorflow_env\\lib\\site-packages\\tensorflow\\python\\ops\\math_ops.py:3066: to_int32 (from tensorflow.python.ops.math_ops) is deprecated and will be removed in a future version.\n",
      "Instructions for updating:\n",
      "Use tf.cast instead.\n",
      "Epoch 1/50\n",
      "39/39 [==============================] - 133s 3s/step - loss: 0.9606 - acc: 0.5330\n",
      "Epoch 2/50\n",
      "39/39 [==============================] - 125s 3s/step - loss: 0.8598 - acc: 0.5970\n",
      "Epoch 3/50\n",
      "39/39 [==============================] - 118s 3s/step - loss: 0.7654 - acc: 0.6607\n",
      "Epoch 4/50\n",
      "39/39 [==============================] - 117s 3s/step - loss: 0.7213 - acc: 0.6860\n",
      "Epoch 5/50\n",
      "39/39 [==============================] - 118s 3s/step - loss: 0.6907 - acc: 0.6958\n",
      "Epoch 6/50\n",
      "39/39 [==============================] - 118s 3s/step - loss: 0.6623 - acc: 0.7141\n",
      "Epoch 7/50\n",
      "39/39 [==============================] - 118s 3s/step - loss: 0.6291 - acc: 0.7303\n",
      "Epoch 8/50\n",
      "39/39 [==============================] - 118s 3s/step - loss: 0.6092 - acc: 0.7415\n",
      "Epoch 9/50\n",
      "39/39 [==============================] - 118s 3s/step - loss: 0.5654 - acc: 0.7618\n",
      "Epoch 10/50\n",
      "39/39 [==============================] - 118s 3s/step - loss: 0.5344 - acc: 0.7761\n",
      "Epoch 11/50\n",
      "39/39 [==============================] - 117s 3s/step - loss: 0.5108 - acc: 0.7882\n",
      "Epoch 12/50\n",
      "39/39 [==============================] - 117s 3s/step - loss: 0.4865 - acc: 0.7986\n",
      "Epoch 13/50\n",
      "39/39 [==============================] - 118s 3s/step - loss: 0.4568 - acc: 0.8141\n",
      "Epoch 14/50\n",
      "39/39 [==============================] - 118s 3s/step - loss: 0.4163 - acc: 0.8339\n",
      "Epoch 15/50\n",
      "39/39 [==============================] - 118s 3s/step - loss: 0.3862 - acc: 0.8462\n",
      "Epoch 16/50\n",
      "39/39 [==============================] - 118s 3s/step - loss: 0.3488 - acc: 0.8594\n",
      "Epoch 17/50\n",
      "39/39 [==============================] - 117s 3s/step - loss: 0.3309 - acc: 0.8697\n",
      "Epoch 18/50\n",
      "39/39 [==============================] - 117s 3s/step - loss: 0.3057 - acc: 0.8781\n",
      "Epoch 19/50\n",
      "39/39 [==============================] - 118s 3s/step - loss: 0.2729 - acc: 0.8906\n",
      "Epoch 20/50\n",
      "39/39 [==============================] - 117s 3s/step - loss: 0.2505 - acc: 0.9028\n",
      "Epoch 21/50\n",
      "39/39 [==============================] - 119s 3s/step - loss: 0.2315 - acc: 0.9094\n",
      "Epoch 22/50\n",
      "39/39 [==============================] - 119s 3s/step - loss: 0.2190 - acc: 0.9175\n",
      "Epoch 23/50\n",
      "39/39 [==============================] - 118s 3s/step - loss: 0.1950 - acc: 0.9251\n",
      "Epoch 24/50\n",
      "39/39 [==============================] - 118s 3s/step - loss: 0.1784 - acc: 0.9310\n",
      "Epoch 25/50\n",
      "39/39 [==============================] - 118s 3s/step - loss: 0.1546 - acc: 0.9413\n",
      "Epoch 26/50\n",
      "39/39 [==============================] - 118s 3s/step - loss: 0.1521 - acc: 0.9437\n",
      "Epoch 27/50\n",
      "39/39 [==============================] - 117s 3s/step - loss: 0.1424 - acc: 0.9479\n",
      "Epoch 28/50\n",
      "39/39 [==============================] - 118s 3s/step - loss: 0.1365 - acc: 0.9491\n",
      "Epoch 29/50\n",
      "39/39 [==============================] - 118s 3s/step - loss: 0.1231 - acc: 0.9553\n",
      "Epoch 30/50\n",
      "39/39 [==============================] - 118s 3s/step - loss: 0.1160 - acc: 0.9573\n",
      "Epoch 31/50\n",
      "39/39 [==============================] - 118s 3s/step - loss: 0.1175 - acc: 0.9576\n",
      "Epoch 32/50\n",
      "39/39 [==============================] - 118s 3s/step - loss: 0.0991 - acc: 0.9639\n",
      "Epoch 33/50\n",
      "39/39 [==============================] - 121s 3s/step - loss: 0.0923 - acc: 0.9668\n",
      "Epoch 34/50\n",
      "39/39 [==============================] - 118s 3s/step - loss: 0.1031 - acc: 0.9627\n",
      "Epoch 35/50\n",
      "39/39 [==============================] - 118s 3s/step - loss: 0.0956 - acc: 0.9654\n",
      "Epoch 36/50\n",
      "39/39 [==============================] - 118s 3s/step - loss: 0.0878 - acc: 0.9682\n",
      "Epoch 37/50\n",
      "39/39 [==============================] - 118s 3s/step - loss: 0.0737 - acc: 0.9745\n",
      "Epoch 38/50\n",
      "39/39 [==============================] - 119s 3s/step - loss: 0.0738 - acc: 0.9744\n",
      "Epoch 39/50\n",
      "39/39 [==============================] - 118s 3s/step - loss: 0.0684 - acc: 0.9753\n",
      "Epoch 40/50\n",
      "39/39 [==============================] - 118s 3s/step - loss: 0.0636 - acc: 0.9770\n",
      "Epoch 41/50\n",
      "39/39 [==============================] - 119s 3s/step - loss: 0.0709 - acc: 0.9747\n",
      "Epoch 42/50\n",
      "39/39 [==============================] - 118s 3s/step - loss: 0.0618 - acc: 0.9775\n",
      "Epoch 43/50\n",
      "39/39 [==============================] - 118s 3s/step - loss: 0.0607 - acc: 0.9776\n",
      "Epoch 44/50\n",
      "39/39 [==============================] - 118s 3s/step - loss: 0.0577 - acc: 0.9797\n",
      "Epoch 45/50\n",
      "39/39 [==============================] - 118s 3s/step - loss: 0.0592 - acc: 0.9790\n",
      "Epoch 46/50\n",
      "39/39 [==============================] - 119s 3s/step - loss: 0.0545 - acc: 0.9809\n",
      "Epoch 47/50\n",
      "39/39 [==============================] - 118s 3s/step - loss: 0.0533 - acc: 0.9808\n",
      "Epoch 48/50\n",
      "39/39 [==============================] - 118s 3s/step - loss: 0.0506 - acc: 0.9828\n",
      "Epoch 49/50\n",
      "39/39 [==============================] - 118s 3s/step - loss: 0.0553 - acc: 0.9816\n",
      "Epoch 50/50\n",
      "39/39 [==============================] - 118s 3s/step - loss: 0.0483 - acc: 0.9836\n"
     ]
    }
   ],
   "source": [
    "hist=model.fit_generator(\n",
    "      train_generator,\n",
    "    steps_per_epoch=39,\n",
    "      epochs=50)"
   ]
  },
  {
   "cell_type": "code",
   "execution_count": 19,
   "metadata": {},
   "outputs": [
    {
     "data": {
      "image/png": "[encoded data removed]",
      "text/plain": [
       "<Figure size 432x288 with 1 Axes>"
      ]
     },
     "metadata": {
      "needs_background": "light"
     },
     "output_type": "display_data"
    },
    {
     "data": {
      "image/png": "[encoded data removed]",
      "text/plain": [
       "<Figure size 432x288 with 1 Axes>"
      ]
     },
     "metadata": {
      "needs_background": "light"
     },
     "output_type": "display_data"
    }
   ],
   "source": [
    "import matplotlib.pyplot as plt\n",
    "\n",
    "acc = hist.history['acc']\n",
    "loss = hist.history['loss']\n",
    "\n",
    "epochs = range(len(acc))\n",
    "\n",
    "plt.plot(epochs, acc, 'bo', label='Training acc')\n",
    "plt.title('Training accuracy')\n",
    "plt.legend()\n",
    "\n",
    "plt.figure()\n",
    "\n",
    "plt.plot(epochs, loss, 'bo', label='Training loss')\n",
    "plt.title('Training loss')\n",
    "plt.legend()\n",
    "\n",
    "plt.show()"
   ]
  },
  {
   "cell_type": "code",
   "execution_count": null,
   "metadata": {},
   "outputs": [],
   "source": []
  },
  {
   "cell_type": "code",
   "execution_count": 20,
   "metadata": {},
   "outputs": [
    {
     "name": "stdout",
     "output_type": "stream",
     "text": [
      "Found 19906 images belonging to 3 classes.\n",
      "Epoch 1/150\n",
      "39/39 [==============================] - 121s 3s/step - loss: 1.0096 - acc: 0.5691\n",
      "Epoch 2/150\n",
      "39/39 [==============================] - 119s 3s/step - loss: 0.8587 - acc: 0.6015\n",
      "Epoch 3/150\n",
      "39/39 [==============================] - 122s 3s/step - loss: 0.8234 - acc: 0.6206\n",
      "Epoch 4/150\n",
      "39/39 [==============================] - 133s 3s/step - loss: 0.8039 - acc: 0.6286\n",
      "Epoch 5/150\n",
      "39/39 [==============================] - 123s 3s/step - loss: 0.7784 - acc: 0.6453\n",
      "Epoch 6/150\n",
      "39/39 [==============================] - 119s 3s/step - loss: 0.7518 - acc: 0.6635\n",
      "Epoch 7/150\n",
      "39/39 [==============================] - 118s 3s/step - loss: 0.7339 - acc: 0.6749\n",
      "Epoch 8/150\n",
      "39/39 [==============================] - 118s 3s/step - loss: 0.7223 - acc: 0.6783\n",
      "Epoch 9/150\n",
      "39/39 [==============================] - 119s 3s/step - loss: 0.7095 - acc: 0.6850\n",
      "Epoch 10/150\n",
      "39/39 [==============================] - 118s 3s/step - loss: 0.6959 - acc: 0.6914\n",
      "Epoch 11/150\n",
      "39/39 [==============================] - 119s 3s/step - loss: 0.6946 - acc: 0.6933\n",
      "Epoch 12/150\n",
      "39/39 [==============================] - 118s 3s/step - loss: 0.6906 - acc: 0.6971\n",
      "Epoch 13/150\n",
      "39/39 [==============================] - 118s 3s/step - loss: 0.6843 - acc: 0.7005\n",
      "Epoch 14/150\n",
      "39/39 [==============================] - 119s 3s/step - loss: 0.6699 - acc: 0.7085\n",
      "Epoch 15/150\n",
      "39/39 [==============================] - 118s 3s/step - loss: 0.6669 - acc: 0.7078\n",
      "Epoch 16/150\n",
      "39/39 [==============================] - 119s 3s/step - loss: 0.6603 - acc: 0.7133\n",
      "Epoch 17/150\n",
      "39/39 [==============================] - 119s 3s/step - loss: 0.6566 - acc: 0.7158\n",
      "Epoch 18/150\n",
      "39/39 [==============================] - 118s 3s/step - loss: 0.6521 - acc: 0.7148\n",
      "Epoch 19/150\n",
      "39/39 [==============================] - 120s 3s/step - loss: 0.6405 - acc: 0.7191\n",
      "Epoch 20/150\n",
      "39/39 [==============================] - 122s 3s/step - loss: 0.6402 - acc: 0.7225\n",
      "Epoch 21/150\n",
      "39/39 [==============================] - 137s 4s/step - loss: 0.6290 - acc: 0.7267\n",
      "Epoch 22/150\n",
      "39/39 [==============================] - 131s 3s/step - loss: 0.6267 - acc: 0.7288\n",
      "Epoch 23/150\n",
      "39/39 [==============================] - 127s 3s/step - loss: 0.6252 - acc: 0.7301\n",
      "Epoch 24/150\n",
      "39/39 [==============================] - 129s 3s/step - loss: 0.6181 - acc: 0.7350\n",
      "Epoch 25/150\n",
      "39/39 [==============================] - 131s 3s/step - loss: 0.6182 - acc: 0.7331\n",
      "Epoch 26/150\n",
      "39/39 [==============================] - 120s 3s/step - loss: 0.6224 - acc: 0.7365\n",
      "Epoch 27/150\n",
      "39/39 [==============================] - 119s 3s/step - loss: 0.6214 - acc: 0.7328\n",
      "Epoch 28/150\n",
      "39/39 [==============================] - 119s 3s/step - loss: 0.6160 - acc: 0.7361\n",
      "Epoch 29/150\n",
      "39/39 [==============================] - 119s 3s/step - loss: 0.6036 - acc: 0.7413\n",
      "Epoch 30/150\n",
      "39/39 [==============================] - 119s 3s/step - loss: 0.6011 - acc: 0.7434\n",
      "Epoch 31/150\n",
      "39/39 [==============================] - 119s 3s/step - loss: 0.5991 - acc: 0.7455\n",
      "Epoch 32/150\n",
      "39/39 [==============================] - 119s 3s/step - loss: 0.5987 - acc: 0.7434\n",
      "Epoch 33/150\n",
      "39/39 [==============================] - 119s 3s/step - loss: 0.5957 - acc: 0.7477\n",
      "Epoch 34/150\n",
      "39/39 [==============================] - 119s 3s/step - loss: 0.5982 - acc: 0.7467\n",
      "Epoch 35/150\n",
      "39/39 [==============================] - 119s 3s/step - loss: 0.5922 - acc: 0.7488\n",
      "Epoch 36/150\n",
      "39/39 [==============================] - 119s 3s/step - loss: 0.5862 - acc: 0.7509\n",
      "Epoch 37/150\n",
      "39/39 [==============================] - 119s 3s/step - loss: 0.5815 - acc: 0.7521\n",
      "Epoch 38/150\n",
      "39/39 [==============================] - 119s 3s/step - loss: 0.5787 - acc: 0.7531\n",
      "Epoch 39/150\n",
      "39/39 [==============================] - 119s 3s/step - loss: 0.5770 - acc: 0.7511\n",
      "Epoch 40/150\n",
      "39/39 [==============================] - 120s 3s/step - loss: 0.5784 - acc: 0.7548\n",
      "Epoch 41/150\n",
      "39/39 [==============================] - 120s 3s/step - loss: 0.5731 - acc: 0.7564\n",
      "Epoch 42/150\n",
      "39/39 [==============================] - 120s 3s/step - loss: 0.5657 - acc: 0.7619\n",
      "Epoch 43/150\n",
      "39/39 [==============================] - 119s 3s/step - loss: 0.5742 - acc: 0.7569\n",
      "Epoch 44/150\n",
      "39/39 [==============================] - 119s 3s/step - loss: 0.5610 - acc: 0.7626\n",
      "Epoch 45/150\n",
      "39/39 [==============================] - 120s 3s/step - loss: 0.5595 - acc: 0.7640\n",
      "Epoch 46/150\n",
      "39/39 [==============================] - 119s 3s/step - loss: 0.5621 - acc: 0.7604\n",
      "Epoch 47/150\n",
      "39/39 [==============================] - 119s 3s/step - loss: 0.5616 - acc: 0.7590\n",
      "Epoch 48/150\n",
      "39/39 [==============================] - 119s 3s/step - loss: 0.5539 - acc: 0.7642\n",
      "Epoch 49/150\n",
      "39/39 [==============================] - 119s 3s/step - loss: 0.5520 - acc: 0.7693\n",
      "Epoch 50/150\n",
      "39/39 [==============================] - 119s 3s/step - loss: 0.5516 - acc: 0.7649\n",
      "Epoch 51/150\n",
      "39/39 [==============================] - 119s 3s/step - loss: 0.5557 - acc: 0.7652\n",
      "Epoch 52/150\n",
      "39/39 [==============================] - 119s 3s/step - loss: 0.5501 - acc: 0.7712\n",
      "Epoch 53/150\n",
      "39/39 [==============================] - 119s 3s/step - loss: 0.5536 - acc: 0.7671\n",
      "Epoch 54/150\n",
      "39/39 [==============================] - 119s 3s/step - loss: 0.5391 - acc: 0.7722\n",
      "Epoch 55/150\n",
      "39/39 [==============================] - 119s 3s/step - loss: 0.5392 - acc: 0.7736\n",
      "Epoch 56/150\n",
      "39/39 [==============================] - 119s 3s/step - loss: 0.5435 - acc: 0.7723\n",
      "Epoch 57/150\n",
      "39/39 [==============================] - 119s 3s/step - loss: 0.5426 - acc: 0.7665\n",
      "Epoch 58/150\n",
      "39/39 [==============================] - 119s 3s/step - loss: 0.5369 - acc: 0.7718\n",
      "Epoch 59/150\n",
      "39/39 [==============================] - 119s 3s/step - loss: 0.5324 - acc: 0.7769\n",
      "Epoch 60/150\n",
      "39/39 [==============================] - 119s 3s/step - loss: 0.5322 - acc: 0.7741\n",
      "Epoch 61/150\n",
      "39/39 [==============================] - 119s 3s/step - loss: 0.5330 - acc: 0.7769\n",
      "Epoch 62/150\n",
      "39/39 [==============================] - 119s 3s/step - loss: 0.5341 - acc: 0.7740\n",
      "Epoch 63/150\n",
      "39/39 [==============================] - 119s 3s/step - loss: 0.5187 - acc: 0.7825\n",
      "Epoch 64/150\n",
      "39/39 [==============================] - 119s 3s/step - loss: 0.5236 - acc: 0.7810\n",
      "Epoch 65/150\n",
      "39/39 [==============================] - 119s 3s/step - loss: 0.5167 - acc: 0.7864\n",
      "Epoch 66/150\n",
      "39/39 [==============================] - 119s 3s/step - loss: 0.5209 - acc: 0.7852\n",
      "Epoch 67/150\n",
      "39/39 [==============================] - 119s 3s/step - loss: 0.5139 - acc: 0.7853\n",
      "Epoch 68/150\n",
      "39/39 [==============================] - 119s 3s/step - loss: 0.5171 - acc: 0.7806\n",
      "Epoch 69/150\n",
      "39/39 [==============================] - 119s 3s/step - loss: 0.5089 - acc: 0.7857\n",
      "Epoch 70/150\n",
      "39/39 [==============================] - 119s 3s/step - loss: 0.5121 - acc: 0.7863\n",
      "Epoch 71/150\n",
      "39/39 [==============================] - 119s 3s/step - loss: 0.5103 - acc: 0.7879\n",
      "Epoch 72/150\n",
      "39/39 [==============================] - 119s 3s/step - loss: 0.5118 - acc: 0.7847\n",
      "Epoch 73/150\n",
      "39/39 [==============================] - 119s 3s/step - loss: 0.5066 - acc: 0.7909\n",
      "Epoch 74/150\n",
      "39/39 [==============================] - 119s 3s/step - loss: 0.5018 - acc: 0.7901\n",
      "Epoch 75/150\n",
      "39/39 [==============================] - 119s 3s/step - loss: 0.5030 - acc: 0.7911\n",
      "Epoch 76/150\n",
      "39/39 [==============================] - 119s 3s/step - loss: 0.5076 - acc: 0.7880\n",
      "Epoch 77/150\n",
      "39/39 [==============================] - 119s 3s/step - loss: 0.4992 - acc: 0.7921\n",
      "Epoch 78/150\n",
      "39/39 [==============================] - 119s 3s/step - loss: 0.5040 - acc: 0.7886\n",
      "Epoch 79/150\n",
      "39/39 [==============================] - 119s 3s/step - loss: 0.4984 - acc: 0.7921\n",
      "Epoch 80/150\n",
      "39/39 [==============================] - 119s 3s/step - loss: 0.4928 - acc: 0.7910\n",
      "Epoch 81/150\n",
      "39/39 [==============================] - 119s 3s/step - loss: 0.4902 - acc: 0.7951\n",
      "Epoch 82/150\n",
      "39/39 [==============================] - 119s 3s/step - loss: 0.5053 - acc: 0.7885\n",
      "Epoch 83/150\n",
      "39/39 [==============================] - 119s 3s/step - loss: 0.4960 - acc: 0.7898\n",
      "Epoch 84/150\n",
      "39/39 [==============================] - 119s 3s/step - loss: 0.4965 - acc: 0.7933\n",
      "Epoch 85/150\n",
      "39/39 [==============================] - 121s 3s/step - loss: 0.4870 - acc: 0.7968\n"
     ]
    },
    {
     "name": "stdout",
     "output_type": "stream",
     "text": [
      "Epoch 86/150\n",
      "39/39 [==============================] - 120s 3s/step - loss: 0.4910 - acc: 0.7959\n",
      "Epoch 87/150\n",
      "39/39 [==============================] - 119s 3s/step - loss: 0.4833 - acc: 0.7988\n",
      "Epoch 88/150\n",
      "39/39 [==============================] - 118s 3s/step - loss: 0.4911 - acc: 0.7972\n",
      "Epoch 89/150\n",
      "39/39 [==============================] - 119s 3s/step - loss: 0.4811 - acc: 0.7994\n",
      "Epoch 90/150\n",
      "39/39 [==============================] - 119s 3s/step - loss: 0.4815 - acc: 0.8015\n",
      "Epoch 91/150\n",
      "39/39 [==============================] - 119s 3s/step - loss: 0.4797 - acc: 0.8010\n",
      "Epoch 92/150\n",
      "39/39 [==============================] - 119s 3s/step - loss: 0.4802 - acc: 0.8016\n",
      "Epoch 93/150\n",
      "39/39 [==============================] - 119s 3s/step - loss: 0.4786 - acc: 0.8015\n",
      "Epoch 94/150\n",
      "39/39 [==============================] - 126s 3s/step - loss: 0.4825 - acc: 0.8022\n",
      "Epoch 95/150\n",
      "39/39 [==============================] - 119s 3s/step - loss: 0.4768 - acc: 0.8057\n",
      "Epoch 96/150\n",
      "39/39 [==============================] - 119s 3s/step - loss: 0.4810 - acc: 0.7985\n",
      "Epoch 97/150\n",
      "39/39 [==============================] - 119s 3s/step - loss: 0.4814 - acc: 0.8005\n",
      "Epoch 98/150\n",
      "39/39 [==============================] - 119s 3s/step - loss: 0.4828 - acc: 0.7964\n",
      "Epoch 99/150\n",
      "39/39 [==============================] - 119s 3s/step - loss: 0.4740 - acc: 0.8048\n",
      "Epoch 100/150\n",
      "39/39 [==============================] - 119s 3s/step - loss: 0.4733 - acc: 0.8022\n",
      "Epoch 101/150\n",
      "39/39 [==============================] - 120s 3s/step - loss: 0.4694 - acc: 0.8077\n",
      "Epoch 102/150\n",
      "39/39 [==============================] - 119s 3s/step - loss: 0.4687 - acc: 0.8048\n",
      "Epoch 103/150\n",
      "39/39 [==============================] - 120s 3s/step - loss: 0.4687 - acc: 0.8069\n",
      "Epoch 104/150\n",
      "39/39 [==============================] - 119s 3s/step - loss: 0.4673 - acc: 0.8118\n",
      "Epoch 105/150\n",
      "39/39 [==============================] - 119s 3s/step - loss: 0.4674 - acc: 0.8043\n",
      "Epoch 106/150\n",
      "39/39 [==============================] - 119s 3s/step - loss: 0.4547 - acc: 0.8130\n",
      "Epoch 107/150\n",
      "39/39 [==============================] - 119s 3s/step - loss: 0.4668 - acc: 0.8090\n",
      "Epoch 108/150\n",
      "39/39 [==============================] - 119s 3s/step - loss: 0.4553 - acc: 0.8100\n",
      "Epoch 109/150\n",
      "39/39 [==============================] - 120s 3s/step - loss: 0.4570 - acc: 0.8120\n",
      "Epoch 110/150\n",
      "39/39 [==============================] - 120s 3s/step - loss: 0.4605 - acc: 0.8101\n",
      "Epoch 111/150\n",
      "39/39 [==============================] - 120s 3s/step - loss: 0.4514 - acc: 0.8127\n",
      "Epoch 112/150\n",
      "39/39 [==============================] - 119s 3s/step - loss: 0.4509 - acc: 0.8118\n",
      "Epoch 113/150\n",
      "39/39 [==============================] - 121s 3s/step - loss: 0.4633 - acc: 0.8079\n",
      "Epoch 114/150\n",
      "39/39 [==============================] - 120s 3s/step - loss: 0.4490 - acc: 0.8159\n",
      "Epoch 115/150\n",
      "39/39 [==============================] - 119s 3s/step - loss: 0.4537 - acc: 0.8112\n",
      "Epoch 116/150\n",
      "39/39 [==============================] - 119s 3s/step - loss: 0.4449 - acc: 0.8186\n",
      "Epoch 117/150\n",
      "39/39 [==============================] - 119s 3s/step - loss: 0.4526 - acc: 0.8130\n",
      "Epoch 118/150\n",
      "39/39 [==============================] - 119s 3s/step - loss: 0.4484 - acc: 0.8151\n",
      "Epoch 119/150\n",
      "39/39 [==============================] - 119s 3s/step - loss: 0.4341 - acc: 0.8202\n",
      "Epoch 120/150\n",
      "39/39 [==============================] - 119s 3s/step - loss: 0.4466 - acc: 0.8143\n",
      "Epoch 121/150\n",
      "39/39 [==============================] - 119s 3s/step - loss: 0.4502 - acc: 0.8150\n",
      "Epoch 122/150\n",
      "39/39 [==============================] - 119s 3s/step - loss: 0.4343 - acc: 0.8222\n",
      "Epoch 123/150\n",
      "39/39 [==============================] - 119s 3s/step - loss: 0.4307 - acc: 0.8229\n",
      "Epoch 124/150\n",
      "39/39 [==============================] - 119s 3s/step - loss: 0.4472 - acc: 0.8149\n",
      "Epoch 125/150\n",
      "39/39 [==============================] - 119s 3s/step - loss: 0.4346 - acc: 0.8224\n",
      "Epoch 126/150\n",
      "39/39 [==============================] - 119s 3s/step - loss: 0.4362 - acc: 0.8224\n",
      "Epoch 127/150\n",
      "39/39 [==============================] - 119s 3s/step - loss: 0.4449 - acc: 0.8166\n",
      "Epoch 128/150\n",
      "39/39 [==============================] - 120s 3s/step - loss: 0.4377 - acc: 0.8205\n",
      "Epoch 129/150\n",
      "39/39 [==============================] - 119s 3s/step - loss: 0.4471 - acc: 0.8163\n",
      "Epoch 130/150\n",
      "39/39 [==============================] - 119s 3s/step - loss: 0.4342 - acc: 0.8233\n",
      "Epoch 131/150\n",
      "39/39 [==============================] - 119s 3s/step - loss: 0.4366 - acc: 0.8225\n",
      "Epoch 132/150\n",
      "39/39 [==============================] - 119s 3s/step - loss: 0.4448 - acc: 0.8178\n",
      "Epoch 133/150\n",
      "39/39 [==============================] - 119s 3s/step - loss: 0.4419 - acc: 0.8182\n",
      "Epoch 134/150\n",
      "39/39 [==============================] - 119s 3s/step - loss: 0.4302 - acc: 0.8240\n",
      "Epoch 135/150\n",
      "39/39 [==============================] - 119s 3s/step - loss: 0.4271 - acc: 0.8236\n",
      "Epoch 136/150\n",
      "39/39 [==============================] - 119s 3s/step - loss: 0.4309 - acc: 0.8220\n",
      "Epoch 137/150\n",
      "39/39 [==============================] - 119s 3s/step - loss: 0.4344 - acc: 0.8180\n",
      "Epoch 138/150\n",
      "39/39 [==============================] - 119s 3s/step - loss: 0.4338 - acc: 0.8224\n",
      "Epoch 139/150\n",
      "39/39 [==============================] - 119s 3s/step - loss: 0.4264 - acc: 0.8249\n",
      "Epoch 140/150\n",
      "39/39 [==============================] - 119s 3s/step - loss: 0.4343 - acc: 0.8228\n",
      "Epoch 141/150\n",
      "39/39 [==============================] - 119s 3s/step - loss: 0.4158 - acc: 0.8291\n",
      "Epoch 142/150\n",
      "39/39 [==============================] - 119s 3s/step - loss: 0.4214 - acc: 0.8300\n",
      "Epoch 143/150\n",
      "39/39 [==============================] - 119s 3s/step - loss: 0.4330 - acc: 0.8224\n",
      "Epoch 144/150\n",
      "39/39 [==============================] - 119s 3s/step - loss: 0.4256 - acc: 0.8256\n",
      "Epoch 145/150\n",
      "39/39 [==============================] - 119s 3s/step - loss: 0.4246 - acc: 0.8271\n",
      "Epoch 146/150\n",
      "39/39 [==============================] - 119s 3s/step - loss: 0.4212 - acc: 0.8265\n",
      "Epoch 147/150\n",
      "39/39 [==============================] - 119s 3s/step - loss: 0.4173 - acc: 0.8285\n",
      "Epoch 148/150\n",
      "39/39 [==============================] - 119s 3s/step - loss: 0.4218 - acc: 0.8279\n",
      "Epoch 149/150\n",
      "39/39 [==============================] - 119s 3s/step - loss: 0.4117 - acc: 0.8339\n",
      "Epoch 150/150\n",
      "39/39 [==============================] - 119s 3s/step - loss: 0.4110 - acc: 0.8312\n"
     ]
    }
   ],
   "source": [
    "train_datagen = ImageDataGenerator(\n",
    "    rescale=1./255,\n",
    "      rotation_range=40,\n",
    "      width_shift_range=0.2,\n",
    "      height_shift_range=0.2,\n",
    "      shear_range=0.2,\n",
    "      zoom_range=0.2,\n",
    "      horizontal_flip=True,\n",
    "      fill_mode='nearest')\n",
    "\n",
    "train_generator = train_datagen.flow_from_directory(\n",
    "        train_dir,\n",
    "        target_size=(48, 48),\n",
    "        batch_size=512,\n",
    "        class_mode='categorical')\n",
    "\n",
    "history = model.fit_generator(\n",
    "      train_generator,\n",
    "      steps_per_epoch=39,\n",
    "      epochs=150)\n"
   ]
  },
  {
   "cell_type": "code",
   "execution_count": 21,
   "metadata": {},
   "outputs": [
    {
     "data": {
      "image/png": "[encoded data removed]",
      "text/plain": [
       "<Figure size 432x288 with 1 Axes>"
      ]
     },
     "metadata": {
      "needs_background": "light"
     },
     "output_type": "display_data"
    },
    {
     "data": {
      "image/png": "[encoded data removed]",
      "text/plain": [
       "<Figure size 432x288 with 1 Axes>"
      ]
     },
     "metadata": {
      "needs_background": "light"
     },
     "output_type": "display_data"
    }
   ],
   "source": [
    "acc = history.history['acc']\n",
    "loss = history.history['loss']\n",
    "\n",
    "epochs = range(len(acc))\n",
    "\n",
    "plt.plot(epochs, acc, 'bo', label='Training acc')\n",
    "plt.title('Training accuracy')\n",
    "plt.legend()\n",
    "\n",
    "plt.figure()\n",
    "\n",
    "plt.plot(epochs, loss, 'bo', label='Training loss')\n",
    "plt.title('Training loss')\n",
    "plt.legend()\n",
    "\n",
    "plt.show()"
   ]
  },
  {
   "cell_type": "code",
   "execution_count": null,
   "metadata": {},
   "outputs": [],
   "source": []
  },
  {
   "cell_type": "code",
   "execution_count": 22,
   "metadata": {},
   "outputs": [],
   "source": [
    "from keras.preprocessing.image import load_img\n",
    "from keras.preprocessing import image"
   ]
  },
  {
   "cell_type": "code",
   "execution_count": 23,
   "metadata": {},
   "outputs": [],
   "source": [
    "def gettingImages(id,path):\n",
    "    sample_array=[]\n",
    "    for i in range(len(id)):\n",
    "        img_path=path+id[i]\n",
    "        img=load_img(img_path,target_size=(48,48))\n",
    "        sample_array.append(image.img_to_array(img))\n",
    "    return sample_array"
   ]
  },
  {
   "cell_type": "code",
   "execution_count": 24,
   "metadata": {},
   "outputs": [],
   "source": [
    "test_features=gettingImages(test_id,'Test/')\n"
   ]
  },
  {
   "cell_type": "code",
   "execution_count": 25,
   "metadata": {},
   "outputs": [],
   "source": [
    "test_features=np.array(test_features)"
   ]
  },
  {
   "cell_type": "code",
   "execution_count": 26,
   "metadata": {},
   "outputs": [],
   "source": [
    "test_features=test_features/255"
   ]
  },
  {
   "cell_type": "code",
   "execution_count": 27,
   "metadata": {},
   "outputs": [
    {
     "data": {
      "text/plain": [
       "array([[1., 0., 0.],\n",
       "       [0., 0., 1.],\n",
       "       [1., 0., 0.],\n",
       "       [0., 0., 1.],\n",
       "       [1., 0., 0.],\n",
       "       [1., 0., 0.],\n",
       "       [0., 0., 1.],\n",
       "       [0., 0., 1.],\n",
       "       [0., 0., 1.],\n",
       "       [0., 1., 0.]], dtype=float32)"
      ]
     },
     "execution_count": 27,
     "metadata": {},
     "output_type": "execute_result"
    }
   ],
   "source": [
    "from sklearn.preprocessing import LabelEncoder\n",
    "import keras\n",
    "\n",
    "lb=LabelEncoder()\n",
    "train_label_sample= keras.utils.np_utils.to_categorical(lb.fit_transform(train_labels))\n",
    "train_label_sample[:10]\n"
   ]
  },
  {
   "cell_type": "code",
   "execution_count": 28,
   "metadata": {},
   "outputs": [
    {
     "data": {
      "text/plain": [
       "array([0, 2, 2, ..., 0, 0, 2], dtype=int64)"
      ]
     },
     "execution_count": 28,
     "metadata": {},
     "output_type": "execute_result"
    }
   ],
   "source": [
    "predict=model.predict_classes(test_features)\n",
    "predict"
   ]
  },
  {
   "cell_type": "code",
   "execution_count": 29,
   "metadata": {},
   "outputs": [],
   "source": [
    "answers=lb.inverse_transform(predict)"
   ]
  },
  {
   "cell_type": "code",
   "execution_count": 30,
   "metadata": {},
   "outputs": [
    {
     "data": {
      "text/plain": [
       "array(['MIDDLE', 'YOUNG', 'YOUNG', ..., 'MIDDLE', 'MIDDLE', 'YOUNG'],\n",
       "      dtype='<U6')"
      ]
     },
     "execution_count": 30,
     "metadata": {},
     "output_type": "execute_result"
    }
   ],
   "source": [
    "answers"
   ]
  },
  {
   "cell_type": "code",
   "execution_count": 31,
   "metadata": {},
   "outputs": [],
   "source": [
    "import pandas as pd\n",
    "df1=pd.DataFrame(test_id,columns=['ID'])\n",
    "df2=pd.DataFrame(answers,columns=['Class'])\n",
    "output=pd.concat([df1,df2],axis=1)\n",
    "output.to_csv('output_with_DA.csv',index=False)"
   ]
  },
  {
   "cell_type": "code",
   "execution_count": 38,
   "metadata": {},
   "outputs": [
    {
     "data": {
      "text/html": [
       "<div>\n",
       "<style scoped>\n",
       "    .dataframe tbody tr th:only-of-type {\n",
       "        vertical-align: middle;\n",
       "    }\n",
       "\n",
       "    .dataframe tbody tr th {\n",
       "        vertical-align: top;\n",
       "    }\n",
       "\n",
       "    .dataframe thead th {\n",
       "        text-align: right;\n",
       "    }\n",
       "</style>\n",
       "<table border=\"1\" class=\"dataframe\">\n",
       "  <thead>\n",
       "    <tr style=\"text-align: right;\">\n",
       "      <th></th>\n",
       "      <th>ID</th>\n",
       "      <th>Class</th>\n",
       "    </tr>\n",
       "  </thead>\n",
       "  <tbody>\n",
       "    <tr>\n",
       "      <th>6626</th>\n",
       "      <td>16049.jpg</td>\n",
       "      <td>MIDDLE</td>\n",
       "    </tr>\n",
       "    <tr>\n",
       "      <th>6627</th>\n",
       "      <td>13461.jpg</td>\n",
       "      <td>YOUNG</td>\n",
       "    </tr>\n",
       "    <tr>\n",
       "      <th>6628</th>\n",
       "      <td>147.jpg</td>\n",
       "      <td>MIDDLE</td>\n",
       "    </tr>\n",
       "    <tr>\n",
       "      <th>6629</th>\n",
       "      <td>22636.jpg</td>\n",
       "      <td>MIDDLE</td>\n",
       "    </tr>\n",
       "    <tr>\n",
       "      <th>6630</th>\n",
       "      <td>6512.jpg</td>\n",
       "      <td>MIDDLE</td>\n",
       "    </tr>\n",
       "    <tr>\n",
       "      <th>6631</th>\n",
       "      <td>1876.jpg</td>\n",
       "      <td>MIDDLE</td>\n",
       "    </tr>\n",
       "    <tr>\n",
       "      <th>6632</th>\n",
       "      <td>14940.jpg</td>\n",
       "      <td>MIDDLE</td>\n",
       "    </tr>\n",
       "    <tr>\n",
       "      <th>6633</th>\n",
       "      <td>3638.jpg</td>\n",
       "      <td>MIDDLE</td>\n",
       "    </tr>\n",
       "    <tr>\n",
       "      <th>6634</th>\n",
       "      <td>376.jpg</td>\n",
       "      <td>MIDDLE</td>\n",
       "    </tr>\n",
       "    <tr>\n",
       "      <th>6635</th>\n",
       "      <td>9357.jpg</td>\n",
       "      <td>YOUNG</td>\n",
       "    </tr>\n",
       "  </tbody>\n",
       "</table>\n",
       "</div>"
      ],
      "text/plain": [
       "             ID   Class\n",
       "6626  16049.jpg  MIDDLE\n",
       "6627  13461.jpg   YOUNG\n",
       "6628    147.jpg  MIDDLE\n",
       "6629  22636.jpg  MIDDLE\n",
       "6630   6512.jpg  MIDDLE\n",
       "6631   1876.jpg  MIDDLE\n",
       "6632  14940.jpg  MIDDLE\n",
       "6633   3638.jpg  MIDDLE\n",
       "6634    376.jpg  MIDDLE\n",
       "6635   9357.jpg   YOUNG"
      ]
     },
     "execution_count": 38,
     "metadata": {},
     "output_type": "execute_result"
    }
   ],
   "source": [
    "output.tail(10)\n",
    "#output.info()"
   ]
  },
  {
   "cell_type": "code",
   "execution_count": 33,
   "metadata": {},
   "outputs": [],
   "source": [
    "# import random\n",
    "# from scipy.misc import imread\n",
    "# i = random.choice(test_data.ID)\n",
    "# img_name = test_data.ID[i]\n",
    "# img = im.read(os.path.join('C:\\\\Users\\\\mahe\\\\Desktop\\\\CNN\\\\Test',img_name))\n",
    "# im.show(img)"
   ]
  },
  {
   "cell_type": "code",
   "execution_count": null,
   "metadata": {},
   "outputs": [],
   "source": []
  }
 ],
 "metadata": {
  "kernelspec": {
   "display_name": "Python 3",
   "language": "python",
   "name": "python3"
  },
  "language_info": {
   "codemirror_mode": {
    "name": "ipython",
    "version": 3
   },
   "file_extension": ".py",
   "mimetype": "text/x-python",
   "name": "python",
   "nbconvert_exporter": "python",
   "pygments_lexer": "ipython3",
   "version": "3.6.8"
  }
 },
 "nbformat": 4,
 "nbformat_minor": 2
}
